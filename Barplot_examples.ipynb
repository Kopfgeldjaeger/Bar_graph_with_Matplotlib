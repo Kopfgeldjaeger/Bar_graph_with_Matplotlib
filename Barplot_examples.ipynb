{
  "nbformat": 4,
  "nbformat_minor": 0,
  "metadata": {
    "colab": {
      "name": "Barplot_examples.ipynb",
      "provenance": [],
      "collapsed_sections": [],
      "authorship_tag": "ABX9TyOdLGBbWBFZkHjGxj8AO98M",
      "include_colab_link": true
    },
    "kernelspec": {
      "name": "python3",
      "display_name": "Python 3"
    }
  },
  "cells": [
    {
      "cell_type": "markdown",
      "metadata": {
        "id": "view-in-github",
        "colab_type": "text"
      },
      "source": [
        "<a href=\"https://colab.research.google.com/github/Kopfgeldjaeger/Bar_graph_with_Matplotlib/blob/master/Barplot_examples.ipynb\" target=\"_parent\"><img src=\"https://colab.research.google.com/assets/colab-badge.svg\" alt=\"Open In Colab\"/></a>"
      ]
    },
    {
      "cell_type": "code",
      "metadata": {
        "id": "uHhmU8QLXK7O",
        "colab_type": "code",
        "colab": {}
      },
      "source": [
        "import pandas as pd\n",
        "import matplotlib.pyplot as plt\n",
        "import os\n",
        "import numpy as np"
      ],
      "execution_count": null,
      "outputs": []
    },
    {
      "cell_type": "code",
      "metadata": {
        "id": "1yR7O9Veshld",
        "colab_type": "code",
        "colab": {
          "base_uri": "https://localhost:8080/",
          "height": 441
        },
        "outputId": "f78c86bd-3e30-4262-dd5d-ed808489102d"
      },
      "source": [
        "fig = plt.figure(figsize=(7,5))\n",
        "ax = fig.add_axes([0,0,1,1])\n",
        "subjects = ['Math', 'Physik', 'English', 'Chemistry', 'History']\n",
        "scores = [90,80,85,72,66]\n",
        "ax.bar(subjects,scores)\n",
        "ax.set_ylabel('scores',fontsize= 12)\n",
        "ax.set_xlabel('subjects',fontsize= 12)\n",
        "ax.set_title('all scores of student X')\n",
        "for i, v in enumerate(scores):\n",
        "    ax.text( i ,v + 1, str(v), color='black', fontweight='bold')\n",
        "plt.savefig('barplot_1.png',dpi=200, format='png', bbox_inches='tight')\n",
        "plt.show()"
      ],
      "execution_count": null,
      "outputs": [
        {
          "output_type": "display_data",
          "data": {
            "image/png": "[encoded data removed]",
            "text/plain": [
              "<Figure size 504x360 with 1 Axes>"
            ]
          },
          "metadata": {
            "tags": [],
            "needs_background": "light"
          }
        }
      ]
    },
    {
      "cell_type": "code",
      "metadata": {
        "id": "B5Lx1M0d90Lr",
        "colab_type": "code",
        "colab": {
          "base_uri": "https://localhost:8080/",
          "height": 195
        },
        "outputId": "8a2031d6-7c58-4608-a323-927cd6af7913"
      },
      "source": [
        "df= pd.read_excel(\"model_accs.xlsx\",header=0)\n",
        "df"
      ],
      "execution_count": null,
      "outputs": [
        {
          "output_type": "execute_result",
          "data": {
            "text/html": [
              "<div>\n",
              "<style scoped>\n",
              "    .dataframe tbody tr th:only-of-type {\n",
              "        vertical-align: middle;\n",
              "    }\n",
              "\n",
              "    .dataframe tbody tr th {\n",
              "        vertical-align: top;\n",
              "    }\n",
              "\n",
              "    .dataframe thead th {\n",
              "        text-align: right;\n",
              "    }\n",
              "</style>\n",
              "<table border=\"1\" class=\"dataframe\">\n",
              "  <thead>\n",
              "    <tr style=\"text-align: right;\">\n",
              "      <th></th>\n",
              "      <th>model_name</th>\n",
              "      <th>Top-5 acc (%)</th>\n",
              "      <th>Top-3 acc (%)</th>\n",
              "      <th>Top-1 acc (%)</th>\n",
              "    </tr>\n",
              "  </thead>\n",
              "  <tbody>\n",
              "    <tr>\n",
              "      <th>0</th>\n",
              "      <td>model_1</td>\n",
              "      <td>96.96</td>\n",
              "      <td>94.64</td>\n",
              "      <td>82.32</td>\n",
              "    </tr>\n",
              "    <tr>\n",
              "      <th>1</th>\n",
              "      <td>model_2</td>\n",
              "      <td>93.20</td>\n",
              "      <td>88.24</td>\n",
              "      <td>74.04</td>\n",
              "    </tr>\n",
              "    <tr>\n",
              "      <th>2</th>\n",
              "      <td>model_3</td>\n",
              "      <td>93.56</td>\n",
              "      <td>89.48</td>\n",
              "      <td>74.80</td>\n",
              "    </tr>\n",
              "    <tr>\n",
              "      <th>3</th>\n",
              "      <td>model_4</td>\n",
              "      <td>91.16</td>\n",
              "      <td>86.48</td>\n",
              "      <td>72.32</td>\n",
              "    </tr>\n",
              "    <tr>\n",
              "      <th>4</th>\n",
              "      <td>model_5</td>\n",
              "      <td>98.84</td>\n",
              "      <td>97.28</td>\n",
              "      <td>88.60</td>\n",
              "    </tr>\n",
              "  </tbody>\n",
              "</table>\n",
              "</div>"
            ],
            "text/plain": [
              "  model_name  Top-5 acc (%)  Top-3 acc (%)  Top-1 acc (%)\n",
              "0    model_1          96.96          94.64          82.32\n",
              "1    model_2          93.20          88.24          74.04\n",
              "2    model_3          93.56          89.48          74.80\n",
              "3    model_4          91.16          86.48          72.32\n",
              "4    model_5          98.84          97.28          88.60"
            ]
          },
          "metadata": {
            "tags": []
          },
          "execution_count": 36
        }
      ]
    },
    {
      "cell_type": "code",
      "metadata": {
        "id": "dEdGQfP5A7QV",
        "colab_type": "code",
        "colab": {
          "base_uri": "https://localhost:8080/",
          "height": 517
        },
        "outputId": "aae94e18-b5c9-4b7e-e5a5-9e980ca20d10"
      },
      "source": [
        "top_1 = df.iloc[:,3]\n",
        "top_3 = df.iloc[:,2]\n",
        "top_5 = df.iloc[:,1]\n",
        "xlabels = df.iloc[:,0]\n",
        "N =5\n",
        "ind = np.arange(N)  # the x locations for the groups\n",
        "width = 0.2       # the width of the bars\n",
        "fig, ax = plt.subplots(figsize=(12,8))\n",
        "rects1 = ax.bar(ind, top_1, width, color='b')\n",
        "rects2 = ax.bar(ind + width, top_3, width, color='orange')\n",
        "rects3 = ax.bar(ind + 2*width, top_5, width, color='g')\n",
        "ax.set_xticks(ind + width)\n",
        "ax.set_xticklabels(xlabels,fontsize=10)\n",
        "ax.set_xlabel(\"models\", fontsize=12)\n",
        "ax.set_ylabel(\"Top-N ACC/%\", fontsize=12)\n",
        "ax.set_title('Top-N ACC for 5 different models')\n",
        "ax.legend((rects1[0], rects2[0],rects3[0]),('top-1 acc', 'top-3 acc','top-5 acc'),bbox_to_anchor=(1.13, 1.01))\n",
        "def labelvalue(rects):\n",
        "    \"\"\"\n",
        "    Attach a text label above each bar displaying its height\n",
        "    \"\"\"\n",
        "    for rect in rects:\n",
        "        height = rect.get_height()\n",
        "        ax.text(rect.get_x() + rect.get_width()/2., 1.01*height,\n",
        "                '%d' % int(height),ha='center', va='bottom')\n",
        "labelvalue(rects1)\n",
        "labelvalue(rects2)\n",
        "labelvalue(rects3)\n",
        "plt.savefig('barplot_2.png',dpi=200, format='png', bbox_inches='tight')\n",
        "plt.show()"
      ],
      "execution_count": null,
      "outputs": [
        {
          "output_type": "display_data",
          "data": {
            "image/png": "[encoded data removed]",
            "text/plain": [
              "<Figure size 864x576 with 1 Axes>"
            ]
          },
          "metadata": {
            "tags": [],
            "needs_background": "light"
          }
        }
      ]
    },
    {
      "cell_type": "code",
      "metadata": {
        "id": "54_1tMLAKyms",
        "colab_type": "code",
        "colab": {
          "base_uri": "https://localhost:8080/",
          "height": 195
        },
        "outputId": "507a3e98-28eb-4f03-8055-06aad53988fb"
      },
      "source": [
        "df= pd.read_excel(\"model_accs.xlsx\",header=0)\n",
        "df['top-1 acc'] = df['Top-1 acc (%)']\n",
        "df['top-3 acc'] = df['Top-3 acc (%)']-df['Top-1 acc (%)']\n",
        "df['top-5 acc'] = df['Top-5 acc (%)']-df['Top-3 acc (%)']\n",
        "df"
      ],
      "execution_count": null,
      "outputs": [
        {
          "output_type": "execute_result",
          "data": {
            "text/html": [
              "<div>\n",
              "<style scoped>\n",
              "    .dataframe tbody tr th:only-of-type {\n",
              "        vertical-align: middle;\n",
              "    }\n",
              "\n",
              "    .dataframe tbody tr th {\n",
              "        vertical-align: top;\n",
              "    }\n",
              "\n",
              "    .dataframe thead th {\n",
              "        text-align: right;\n",
              "    }\n",
              "</style>\n",
              "<table border=\"1\" class=\"dataframe\">\n",
              "  <thead>\n",
              "    <tr style=\"text-align: right;\">\n",
              "      <th></th>\n",
              "      <th>model_name</th>\n",
              "      <th>Top-5 acc (%)</th>\n",
              "      <th>Top-3 acc (%)</th>\n",
              "      <th>Top-1 acc (%)</th>\n",
              "      <th>top-1 acc</th>\n",
              "      <th>top-3 acc</th>\n",
              "      <th>top-5 acc</th>\n",
              "    </tr>\n",
              "  </thead>\n",
              "  <tbody>\n",
              "    <tr>\n",
              "      <th>0</th>\n",
              "      <td>model_1</td>\n",
              "      <td>96.96</td>\n",
              "      <td>94.64</td>\n",
              "      <td>82.32</td>\n",
              "      <td>82.32</td>\n",
              "      <td>12.32</td>\n",
              "      <td>2.32</td>\n",
              "    </tr>\n",
              "    <tr>\n",
              "      <th>1</th>\n",
              "      <td>model_2</td>\n",
              "      <td>93.20</td>\n",
              "      <td>88.24</td>\n",
              "      <td>74.04</td>\n",
              "      <td>74.04</td>\n",
              "      <td>14.20</td>\n",
              "      <td>4.96</td>\n",
              "    </tr>\n",
              "    <tr>\n",
              "      <th>2</th>\n",
              "      <td>model_3</td>\n",
              "      <td>93.56</td>\n",
              "      <td>89.48</td>\n",
              "      <td>74.80</td>\n",
              "      <td>74.80</td>\n",
              "      <td>14.68</td>\n",
              "      <td>4.08</td>\n",
              "    </tr>\n",
              "    <tr>\n",
              "      <th>3</th>\n",
              "      <td>model_4</td>\n",
              "      <td>91.16</td>\n",
              "      <td>86.48</td>\n",
              "      <td>72.32</td>\n",
              "      <td>72.32</td>\n",
              "      <td>14.16</td>\n",
              "      <td>4.68</td>\n",
              "    </tr>\n",
              "    <tr>\n",
              "      <th>4</th>\n",
              "      <td>model_5</td>\n",
              "      <td>98.84</td>\n",
              "      <td>97.28</td>\n",
              "      <td>88.60</td>\n",
              "      <td>88.60</td>\n",
              "      <td>8.68</td>\n",
              "      <td>1.56</td>\n",
              "    </tr>\n",
              "  </tbody>\n",
              "</table>\n",
              "</div>"
            ],
            "text/plain": [
              "  model_name  Top-5 acc (%)  Top-3 acc (%)  ...  top-1 acc  top-3 acc  top-5 acc\n",
              "0    model_1          96.96          94.64  ...      82.32      12.32       2.32\n",
              "1    model_2          93.20          88.24  ...      74.04      14.20       4.96\n",
              "2    model_3          93.56          89.48  ...      74.80      14.68       4.08\n",
              "3    model_4          91.16          86.48  ...      72.32      14.16       4.68\n",
              "4    model_5          98.84          97.28  ...      88.60       8.68       1.56\n",
              "\n",
              "[5 rows x 7 columns]"
            ]
          },
          "metadata": {
            "tags": []
          },
          "execution_count": 70
        }
      ]
    },
    {
      "cell_type": "code",
      "metadata": {
        "id": "HrKx1TqMNXt8",
        "colab_type": "code",
        "colab": {
          "base_uri": "https://localhost:8080/",
          "height": 548
        },
        "outputId": "12a432ea-eef8-4ea1-ca73-0fa2a2aa7b4c"
      },
      "source": [
        "ax = df[['top-1 acc','top-3 acc','top-5 acc']].plot(kind='bar', title =\"Top-N ACC for 5 different models\", figsize=(12, 8), legend=True, fontsize=12,stacked=True)\n",
        "top_1 = df.iloc[:,3]\n",
        "top_3 = df.iloc[:,2]\n",
        "top_5 = df.iloc[:,1]\n",
        "xlabels = df.iloc[:,0]\n",
        "ax.set_xticklabels(xlabels,fontsize=10)\n",
        "ax.set_xlabel(\"models\", fontsize=12)\n",
        "ax.set_ylabel(\"Top-N ACC/%\", fontsize=12)\n",
        "for i, v in enumerate(top_1):\n",
        "    ax.text( i ,v - 2, str(v), color='black')\n",
        "for i, v in enumerate(top_3):\n",
        "    ax.text( i ,v - 3, str(v), color='black')\n",
        "for i, v in enumerate(top_5):\n",
        "    ax.text( i ,v + 1, str(v), color='black')\n",
        "plt.savefig('barplot_2.png',dpi=200, format='png', bbox_inches='tight')\n",
        "plt.show()"
      ],
      "execution_count": null,
      "outputs": [
        {
          "output_type": "display_data",
          "data": {
            "image/png": "[encoded data removed]",
            "text/plain": [
              "<Figure size 864x576 with 1 Axes>"
            ]
          },
          "metadata": {
            "tags": [],
            "needs_background": "light"
          }
        }
      ]
    }
  ]
}